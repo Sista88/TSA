{
 "cells": [
  {
   "cell_type": "code",
   "execution_count": 97,
   "id": "d877b8f4",
   "metadata": {},
   "outputs": [],
   "source": [
    "#Importing necessaru libraries\n",
    "import pandas as pd\n",
    "import numpy as np\n",
    "from statsmodels.tsa.stattools import adfuller\n",
    "import statsmodels.api as sm\n",
    "from statsmodels.graphics.tsaplots import plot_acf, plot_pacf\n",
    "import matplotlib.pyplot as plt\n",
    "from sklearn.metrics import mean_squared_error\n",
    "from statsmodels.tsa.ar_model import AutoReg\n",
    "from statsmodels.tsa.arima.model import ARIMA"
   ]
  },
  {
   "cell_type": "code",
   "execution_count": 6,
   "id": "6f0b86c4",
   "metadata": {},
   "outputs": [],
   "source": [
    "df = pd.read_csv('AirPassengers.csv')"
   ]
  },
  {
   "cell_type": "code",
   "execution_count": 8,
   "id": "1fc083e7",
   "metadata": {},
   "outputs": [
    {
     "data": {
      "text/plain": [
       "0     1949-01-01\n",
       "1     1949-02-01\n",
       "2     1949-03-01\n",
       "3     1949-04-01\n",
       "4     1949-05-01\n",
       "         ...    \n",
       "139   1960-08-01\n",
       "140   1960-09-01\n",
       "141   1960-10-01\n",
       "142   1960-11-01\n",
       "143   1960-12-01\n",
       "Name: Month, Length: 144, dtype: datetime64[ns]"
      ]
     },
     "execution_count": 8,
     "metadata": {},
     "output_type": "execute_result"
    }
   ],
   "source": [
    "df['Month'] = pd.to_datetime(df['Month'])\n",
    "df['Month']"
   ]
  },
  {
   "cell_type": "code",
   "execution_count": 9,
   "id": "9433727e",
   "metadata": {},
   "outputs": [
    {
     "data": {
      "text/html": [
       "<div>\n",
       "<style scoped>\n",
       "    .dataframe tbody tr th:only-of-type {\n",
       "        vertical-align: middle;\n",
       "    }\n",
       "\n",
       "    .dataframe tbody tr th {\n",
       "        vertical-align: top;\n",
       "    }\n",
       "\n",
       "    .dataframe thead th {\n",
       "        text-align: right;\n",
       "    }\n",
       "</style>\n",
       "<table border=\"1\" class=\"dataframe\">\n",
       "  <thead>\n",
       "    <tr style=\"text-align: right;\">\n",
       "      <th></th>\n",
       "      <th>Month</th>\n",
       "      <th>#Passengers</th>\n",
       "    </tr>\n",
       "    <tr>\n",
       "      <th>Month</th>\n",
       "      <th></th>\n",
       "      <th></th>\n",
       "    </tr>\n",
       "  </thead>\n",
       "  <tbody>\n",
       "    <tr>\n",
       "      <th>1949-01-01</th>\n",
       "      <td>1949-01-01</td>\n",
       "      <td>112</td>\n",
       "    </tr>\n",
       "    <tr>\n",
       "      <th>1949-02-01</th>\n",
       "      <td>1949-02-01</td>\n",
       "      <td>118</td>\n",
       "    </tr>\n",
       "    <tr>\n",
       "      <th>1949-03-01</th>\n",
       "      <td>1949-03-01</td>\n",
       "      <td>132</td>\n",
       "    </tr>\n",
       "    <tr>\n",
       "      <th>1949-04-01</th>\n",
       "      <td>1949-04-01</td>\n",
       "      <td>129</td>\n",
       "    </tr>\n",
       "    <tr>\n",
       "      <th>1949-05-01</th>\n",
       "      <td>1949-05-01</td>\n",
       "      <td>121</td>\n",
       "    </tr>\n",
       "  </tbody>\n",
       "</table>\n",
       "</div>"
      ],
      "text/plain": [
       "                Month  #Passengers\n",
       "Month                             \n",
       "1949-01-01 1949-01-01          112\n",
       "1949-02-01 1949-02-01          118\n",
       "1949-03-01 1949-03-01          132\n",
       "1949-04-01 1949-04-01          129\n",
       "1949-05-01 1949-05-01          121"
      ]
     },
     "execution_count": 9,
     "metadata": {},
     "output_type": "execute_result"
    }
   ],
   "source": [
    "df = df.set_index(df['Month'])\n",
    "df.head()"
   ]
  },
  {
   "cell_type": "code",
   "execution_count": 10,
   "id": "020a06ee",
   "metadata": {},
   "outputs": [],
   "source": [
    "df = df.drop(columns=['Month'])"
   ]
  },
  {
   "cell_type": "code",
   "execution_count": 11,
   "id": "615f395e",
   "metadata": {},
   "outputs": [
    {
     "data": {
      "text/html": [
       "<div>\n",
       "<style scoped>\n",
       "    .dataframe tbody tr th:only-of-type {\n",
       "        vertical-align: middle;\n",
       "    }\n",
       "\n",
       "    .dataframe tbody tr th {\n",
       "        vertical-align: top;\n",
       "    }\n",
       "\n",
       "    .dataframe thead th {\n",
       "        text-align: right;\n",
       "    }\n",
       "</style>\n",
       "<table border=\"1\" class=\"dataframe\">\n",
       "  <thead>\n",
       "    <tr style=\"text-align: right;\">\n",
       "      <th></th>\n",
       "      <th>#Passengers</th>\n",
       "    </tr>\n",
       "    <tr>\n",
       "      <th>Month</th>\n",
       "      <th></th>\n",
       "    </tr>\n",
       "  </thead>\n",
       "  <tbody>\n",
       "    <tr>\n",
       "      <th>1949-01-01</th>\n",
       "      <td>112</td>\n",
       "    </tr>\n",
       "    <tr>\n",
       "      <th>1949-02-01</th>\n",
       "      <td>118</td>\n",
       "    </tr>\n",
       "    <tr>\n",
       "      <th>1949-03-01</th>\n",
       "      <td>132</td>\n",
       "    </tr>\n",
       "    <tr>\n",
       "      <th>1949-04-01</th>\n",
       "      <td>129</td>\n",
       "    </tr>\n",
       "    <tr>\n",
       "      <th>1949-05-01</th>\n",
       "      <td>121</td>\n",
       "    </tr>\n",
       "  </tbody>\n",
       "</table>\n",
       "</div>"
      ],
      "text/plain": [
       "            #Passengers\n",
       "Month                  \n",
       "1949-01-01          112\n",
       "1949-02-01          118\n",
       "1949-03-01          132\n",
       "1949-04-01          129\n",
       "1949-05-01          121"
      ]
     },
     "execution_count": 11,
     "metadata": {},
     "output_type": "execute_result"
    }
   ],
   "source": [
    "df.head()"
   ]
  },
  {
   "cell_type": "code",
   "execution_count": null,
   "id": "bd0fe98d",
   "metadata": {},
   "outputs": [],
   "source": [
    "dftest = adfuller(timeseries, autolag=\"AIC\")\n",
    "dfoutput = pd.Series(\n",
    "dftest[0:4],index=[\"Test Statistic\", \"p-value\", \"#Lags Used\", \"Number of Observations Used\",],)\n",
    "for key, value in dftest[4].items():\n",
    "    dfoutput[\"Critical Value (%s)\" % key] = value\n",
    "print(dfoutput)\n",
    "\n",
    "    return dftest[1] < 0.05\n",
    "\n",
    "adf_test(timeseries)"
   ]
  },
  {
   "cell_type": "code",
   "execution_count": 19,
   "id": "3b9364a2",
   "metadata": {},
   "outputs": [
    {
     "name": "stdout",
     "output_type": "stream",
     "text": [
      "Test statistic:  -2.8292668241700114\n",
      "p-value:  0.05421329028382387\n",
      "Critical values:  {'1%': -3.4816817173418295, '5%': -2.8840418343195267, '10%': -2.578770059171598}\n",
      "Autolag:  988.5069317854085\n",
      "It is not stationary\n"
     ]
    }
   ],
   "source": [
    "result = adfuller(df)\n",
    "\n",
    "# Print test statistic and p-value\n",
    "print(\"Test statistic: \", result[0])\n",
    "print(\"p-value: \", result[1])\n",
    "print(\"Critical values: \", result[4])\n",
    "print(\"Autolag: \", result[5])\n",
    "if result[1]<0.05:\n",
    "    print(\"It is stationary\")\n",
    "else:\n",
    "    print(\"It is not stationary\")"
   ]
  },
  {
   "cell_type": "code",
   "execution_count": 15,
   "id": "b3075c4a",
   "metadata": {},
   "outputs": [],
   "source": [
    "df = df-df.shift(1)"
   ]
  },
  {
   "cell_type": "code",
   "execution_count": 20,
   "id": "0ab33514",
   "metadata": {},
   "outputs": [
    {
     "name": "stdout",
     "output_type": "stream",
     "text": [
      "Test statistic:  -2.8292668241700114\n",
      "p-value:  0.05421329028382387\n",
      "Critical values:  {'1%': -3.4816817173418295, '5%': -2.8840418343195267, '10%': -2.578770059171598}\n",
      "Autolag:  988.5069317854085\n",
      "It is not stationary\n"
     ]
    }
   ],
   "source": [
    "df = df.dropna()#Since it contain null values\n",
    "result2 = adfuller(df)\n",
    "print(\"Test statistic: \", result2[0])\n",
    "print(\"p-value: \", result2[1])\n",
    "print(\"Critical values: \", result2[4])\n",
    "print(\"Autolag: \", result2[5])\n",
    "if result2[1]<0.05:\n",
    "    print(\"It is stationary\")\n",
    "else:\n",
    "    print(\"It is not stationary\")"
   ]
  },
  {
   "cell_type": "code",
   "execution_count": 21,
   "id": "a03c5ee2",
   "metadata": {},
   "outputs": [],
   "source": [
    "df = df-df.shift(2)"
   ]
  },
  {
   "cell_type": "code",
   "execution_count": 22,
   "id": "700594af",
   "metadata": {},
   "outputs": [
    {
     "name": "stdout",
     "output_type": "stream",
     "text": [
      "Test statistic:  -15.834423365324907\n",
      "p-value:  9.857018894069902e-29\n",
      "Critical values:  {'1%': -3.4816817173418295, '5%': -2.8840418343195267, '10%': -2.578770059171598}\n",
      "Autolag:  986.823797868942\n",
      "It is stationary\n"
     ]
    }
   ],
   "source": [
    "df = df.dropna()\n",
    "result3 = adfuller(df)\n",
    "print(\"Test statistic: \", result3[0])\n",
    "print(\"p-value: \", result3[1])\n",
    "print(\"Critical values: \", result3[4])\n",
    "print(\"Autolag: \", result3[5])\n",
    "if result3[1]<0.05:\n",
    "    print(\"It is stationary\")\n",
    "else:\n",
    "    print(\"It is not stationary\")"
   ]
  },
  {
   "cell_type": "code",
   "execution_count": 40,
   "id": "1090ed56",
   "metadata": {},
   "outputs": [
    {
     "data": {
      "text/html": [
       "<div>\n",
       "<style scoped>\n",
       "    .dataframe tbody tr th:only-of-type {\n",
       "        vertical-align: middle;\n",
       "    }\n",
       "\n",
       "    .dataframe tbody tr th {\n",
       "        vertical-align: top;\n",
       "    }\n",
       "\n",
       "    .dataframe thead th {\n",
       "        text-align: right;\n",
       "    }\n",
       "</style>\n",
       "<table border=\"1\" class=\"dataframe\">\n",
       "  <thead>\n",
       "    <tr style=\"text-align: right;\">\n",
       "      <th></th>\n",
       "      <th>#Passengers</th>\n",
       "    </tr>\n",
       "    <tr>\n",
       "      <th>Month</th>\n",
       "      <th></th>\n",
       "    </tr>\n",
       "  </thead>\n",
       "  <tbody>\n",
       "    <tr>\n",
       "      <th>1949-04-01</th>\n",
       "      <td>-9.0</td>\n",
       "    </tr>\n",
       "    <tr>\n",
       "      <th>1949-05-01</th>\n",
       "      <td>-22.0</td>\n",
       "    </tr>\n",
       "    <tr>\n",
       "      <th>1949-06-01</th>\n",
       "      <td>17.0</td>\n",
       "    </tr>\n",
       "    <tr>\n",
       "      <th>1949-07-01</th>\n",
       "      <td>21.0</td>\n",
       "    </tr>\n",
       "    <tr>\n",
       "      <th>1949-08-01</th>\n",
       "      <td>-14.0</td>\n",
       "    </tr>\n",
       "  </tbody>\n",
       "</table>\n",
       "</div>"
      ],
      "text/plain": [
       "            #Passengers\n",
       "Month                  \n",
       "1949-04-01         -9.0\n",
       "1949-05-01        -22.0\n",
       "1949-06-01         17.0\n",
       "1949-07-01         21.0\n",
       "1949-08-01        -14.0"
      ]
     },
     "execution_count": 40,
     "metadata": {},
     "output_type": "execute_result"
    }
   ],
   "source": [
    "df.head()"
   ]
  },
  {
   "cell_type": "code",
   "execution_count": 47,
   "id": "e698d700",
   "metadata": {},
   "outputs": [
    {
     "name": "stderr",
     "output_type": "stream",
     "text": [
      "/Users/suryatejasista/opt/anaconda3/lib/python3.9/site-packages/statsmodels/tsa/base/tsa_model.py:471: ValueWarning: No frequency information was provided, so inferred frequency MS will be used.\n",
      "  self._init_dates(dates, freq)\n",
      "/Users/suryatejasista/opt/anaconda3/lib/python3.9/site-packages/statsmodels/tsa/deterministic.py:302: UserWarning: Only PeriodIndexes, DatetimeIndexes with a frequency set, RangesIndexes, and Index with a unit increment support extending. The index is set will contain the position relative to the data length.\n",
      "  fcast_index = self._extend_index(index, steps, forecast_index)\n"
     ]
    },
    {
     "data": {
      "image/png": "[encoded data removed]",
      "text/plain": [
       "<Figure size 432x288 with 1 Axes>"
      ]
     },
     "metadata": {
      "needs_background": "light"
     },
     "output_type": "display_data"
    }
   ],
   "source": [
    "from statsmodels.tsa.ar_model import AutoReg\n",
    "from sklearn.metrics import mean_absolute_error\n",
    "\n",
    "df.count()\n",
    "\n",
    "\n",
    "model = AutoReg(df, lags=1).fit()\n",
    "\n",
    "predictions = model.predict(start=len(df), end=len(df)+10)\n",
    "\n",
    "plt.plot(df.tail(11), label='Actual')\n",
    "plt.plot(predictions, label='Predicted', color='r')\n",
    "plt.legend(loc='best')\n",
    "plt.show()"
   ]
  },
  {
   "cell_type": "code",
   "execution_count": null,
   "id": "d280f8d3",
   "metadata": {},
   "outputs": [],
   "source": [
    "mse = mean_squared_error(df[-10:], predictions)\n",
    "print(\"MSE: \", mse)\n"
   ]
  },
  {
   "cell_type": "code",
   "execution_count": 93,
   "id": "3cadc81a",
   "metadata": {},
   "outputs": [
    {
     "name": "stderr",
     "output_type": "stream",
     "text": [
      "/Users/suryatejasista/opt/anaconda3/lib/python3.9/site-packages/statsmodels/graphics/tsaplots.py:348: FutureWarning: The default method 'yw' can produce PACF values outside of the [-1,1] interval. After 0.13, the default will change tounadjusted Yule-Walker ('ywm'). You can use this method now by setting method='ywm'.\n",
      "  warnings.warn(\n"
     ]
    },
    {
     "data": {
      "image/png": "[encoded data removed]",
      "text/plain": [
       "<Figure size 720x360 with 2 Axes>"
      ]
     },
     "metadata": {
      "needs_background": "light"
     },
     "output_type": "display_data"
    }
   ],
   "source": [
    "import statsmodels.api as sm\n",
    "from statsmodels.graphics.tsaplots import plot_acf, plot_pacf\n",
    "\n",
    "fig, (ax1, ax2) = plt.subplots(2, 1, figsize=(10, 5))\n",
    "plot_acf(df, lags=20, ax=ax1)\n",
    "plot_pacf(df, lags=20, ax=ax2)\n",
    "plt.show()\n"
   ]
  },
  {
   "cell_type": "code",
   "execution_count": null,
   "id": "5137f13d",
   "metadata": {},
   "outputs": [],
   "source": []
  },
  {
   "cell_type": "code",
   "execution_count": 95,
   "id": "be184ee5",
   "metadata": {},
   "outputs": [],
   "source": [
    "df_train_set = df.loc[df.index < '1958-01-01']\n",
    "df_test_set = df.loc[df.index >= '1958-01-01']"
   ]
  },
  {
   "cell_type": "code",
   "execution_count": 100,
   "id": "f33a1e86",
   "metadata": {},
   "outputs": [
    {
     "name": "stderr",
     "output_type": "stream",
     "text": [
      "/Users/suryatejasista/opt/anaconda3/lib/python3.9/site-packages/statsmodels/tsa/base/tsa_model.py:471: ValueWarning: No frequency information was provided, so inferred frequency MS will be used.\n",
      "  self._init_dates(dates, freq)\n",
      "/Users/suryatejasista/opt/anaconda3/lib/python3.9/site-packages/statsmodels/tsa/base/tsa_model.py:471: ValueWarning: No frequency information was provided, so inferred frequency MS will be used.\n",
      "  self._init_dates(dates, freq)\n",
      "/Users/suryatejasista/opt/anaconda3/lib/python3.9/site-packages/statsmodels/tsa/base/tsa_model.py:471: ValueWarning: No frequency information was provided, so inferred frequency MS will be used.\n",
      "  self._init_dates(dates, freq)\n"
     ]
    }
   ],
   "source": [
    "model2=ARIMA(df_train_set, order  = (3, 2, 1))\n",
    "mod_tr=model2.fit()"
   ]
  },
  {
   "cell_type": "code",
   "execution_count": 101,
   "id": "cf21bf97",
   "metadata": {},
   "outputs": [
    {
     "data": {
      "text/html": [
       "<table class=\"simpletable\">\n",
       "<caption>SARIMAX Results</caption>\n",
       "<tr>\n",
       "  <th>Dep. Variable:</th>      <td>#Passengers</td>   <th>  No. Observations:  </th>    <td>105</td>  \n",
       "</tr>\n",
       "<tr>\n",
       "  <th>Model:</th>            <td>ARIMA(3, 2, 1)</td>  <th>  Log Likelihood     </th> <td>-533.997</td>\n",
       "</tr>\n",
       "<tr>\n",
       "  <th>Date:</th>            <td>Sun, 22 Jan 2023</td> <th>  AIC                </th> <td>1077.995</td>\n",
       "</tr>\n",
       "<tr>\n",
       "  <th>Time:</th>                <td>03:49:37</td>     <th>  BIC                </th> <td>1091.168</td>\n",
       "</tr>\n",
       "<tr>\n",
       "  <th>Sample:</th>             <td>04-01-1949</td>    <th>  HQIC               </th> <td>1083.331</td>\n",
       "</tr>\n",
       "<tr>\n",
       "  <th></th>                   <td>- 12-01-1957</td>   <th>                     </th>     <td> </td>   \n",
       "</tr>\n",
       "<tr>\n",
       "  <th>Covariance Type:</th>        <td>opg</td>       <th>                     </th>     <td> </td>   \n",
       "</tr>\n",
       "</table>\n",
       "<table class=\"simpletable\">\n",
       "<tr>\n",
       "     <td></td>       <th>coef</th>     <th>std err</th>      <th>z</th>      <th>P>|z|</th>  <th>[0.025</th>    <th>0.975]</th>  \n",
       "</tr>\n",
       "<tr>\n",
       "  <th>ar.L1</th>  <td>   -0.1801</td> <td>    0.151</td> <td>   -1.190</td> <td> 0.234</td> <td>   -0.477</td> <td>    0.116</td>\n",
       "</tr>\n",
       "<tr>\n",
       "  <th>ar.L2</th>  <td>   -0.5220</td> <td>    0.102</td> <td>   -5.106</td> <td> 0.000</td> <td>   -0.722</td> <td>   -0.322</td>\n",
       "</tr>\n",
       "<tr>\n",
       "  <th>ar.L3</th>  <td>   -0.0353</td> <td>    0.158</td> <td>   -0.224</td> <td> 0.823</td> <td>   -0.344</td> <td>    0.274</td>\n",
       "</tr>\n",
       "<tr>\n",
       "  <th>ma.L1</th>  <td>   -0.9999</td> <td>   36.285</td> <td>   -0.028</td> <td> 0.978</td> <td>  -72.116</td> <td>   70.116</td>\n",
       "</tr>\n",
       "<tr>\n",
       "  <th>sigma2</th> <td> 1753.4602</td> <td> 6.37e+04</td> <td>    0.028</td> <td> 0.978</td> <td>-1.23e+05</td> <td> 1.27e+05</td>\n",
       "</tr>\n",
       "</table>\n",
       "<table class=\"simpletable\">\n",
       "<tr>\n",
       "  <th>Ljung-Box (L1) (Q):</th>     <td>0.09</td> <th>  Jarque-Bera (JB):  </th> <td>4.52</td>\n",
       "</tr>\n",
       "<tr>\n",
       "  <th>Prob(Q):</th>                <td>0.76</td> <th>  Prob(JB):          </th> <td>0.10</td>\n",
       "</tr>\n",
       "<tr>\n",
       "  <th>Heteroskedasticity (H):</th> <td>5.04</td> <th>  Skew:              </th> <td>0.51</td>\n",
       "</tr>\n",
       "<tr>\n",
       "  <th>Prob(H) (two-sided):</th>    <td>0.00</td> <th>  Kurtosis:          </th> <td>2.93</td>\n",
       "</tr>\n",
       "</table><br/><br/>Warnings:<br/>[1] Covariance matrix calculated using the outer product of gradients (complex-step)."
      ],
      "text/plain": [
       "<class 'statsmodels.iolib.summary.Summary'>\n",
       "\"\"\"\n",
       "                               SARIMAX Results                                \n",
       "==============================================================================\n",
       "Dep. Variable:            #Passengers   No. Observations:                  105\n",
       "Model:                 ARIMA(3, 2, 1)   Log Likelihood                -533.997\n",
       "Date:                Sun, 22 Jan 2023   AIC                           1077.995\n",
       "Time:                        03:49:37   BIC                           1091.168\n",
       "Sample:                    04-01-1949   HQIC                          1083.331\n",
       "                         - 12-01-1957                                         \n",
       "Covariance Type:                  opg                                         \n",
       "==============================================================================\n",
       "                 coef    std err          z      P>|z|      [0.025      0.975]\n",
       "------------------------------------------------------------------------------\n",
       "ar.L1         -0.1801      0.151     -1.190      0.234      -0.477       0.116\n",
       "ar.L2         -0.5220      0.102     -5.106      0.000      -0.722      -0.322\n",
       "ar.L3         -0.0353      0.158     -0.224      0.823      -0.344       0.274\n",
       "ma.L1         -0.9999     36.285     -0.028      0.978     -72.116      70.116\n",
       "sigma2      1753.4602   6.37e+04      0.028      0.978   -1.23e+05    1.27e+05\n",
       "===================================================================================\n",
       "Ljung-Box (L1) (Q):                   0.09   Jarque-Bera (JB):                 4.52\n",
       "Prob(Q):                              0.76   Prob(JB):                         0.10\n",
       "Heteroskedasticity (H):               5.04   Skew:                             0.51\n",
       "Prob(H) (two-sided):                  0.00   Kurtosis:                         2.93\n",
       "===================================================================================\n",
       "\n",
       "Warnings:\n",
       "[1] Covariance matrix calculated using the outer product of gradients (complex-step).\n",
       "\"\"\""
      ]
     },
     "execution_count": 101,
     "metadata": {},
     "output_type": "execute_result"
    }
   ],
   "source": [
    "mod_tr.summary()"
   ]
  },
  {
   "cell_type": "code",
   "execution_count": 84,
   "id": "2046921a",
   "metadata": {},
   "outputs": [
    {
     "data": {
      "text/plain": [
       "<Figure size 864x720 with 0 Axes>"
      ]
     },
     "metadata": {},
     "output_type": "display_data"
    },
    {
     "data": {
      "image/png": "[encoded data removed]",
      "text/plain": [
       "<Figure size 432x288 with 2 Axes>"
      ]
     },
     "metadata": {
      "needs_background": "light"
     },
     "output_type": "display_data"
    }
   ],
   "source": [
    "\n",
    "plt.figure(figsize=(12,10))\n",
    "df_train_set.plot(color='green', grid=True, secondary_y=True, label='True_values')\n",
    "mod_tr.fittedvalues.plot(color='blue', grid=True, secondary_y=True, label='Fit')\n",
    "mod_tr.resid.plot(color='yellow', grid=True, secondary_y=True, label='Res')\n",
    "\n",
    "plt.legend()\n",
    "plt.show()"
   ]
  },
  {
   "cell_type": "code",
   "execution_count": 85,
   "id": "61904347",
   "metadata": {},
   "outputs": [],
   "source": [
    "from statsmodels.tsa.arima_model import ARIMA"
   ]
  },
  {
   "cell_type": "code",
   "execution_count": 87,
   "id": "c832a87c",
   "metadata": {},
   "outputs": [
    {
     "data": {
      "image/png": "[encoded data removed]",
      "text/plain": [
       "<Figure size 720x144 with 2 Axes>"
      ]
     },
     "metadata": {
      "needs_background": "light"
     },
     "output_type": "display_data"
    }
   ],
   "source": [
    "forecast = mod_tr.get_forecast(steps=20)\n",
    "mean_forecast = forecast.predicted_mean\n",
    "conf_int = forecast.conf_int()\n",
    "\n",
    "plt.figure(figsize=(10,2))\n",
    "df_test_set['#Passengers'].plot(color='blue', grid=True, secondary_y=True, label='Original')\n",
    "plt.plot(mean_forecast, label='Forecast')\n",
    "plt.fill_between(conf_int.index, conf_int.iloc[:, 0], conf_int.iloc[:, 1], color='white')\n",
    "plt.legend()\n",
    "plt.show()\n",
    "\n",
    "\n"
   ]
  }
 ],
 "metadata": {
  "kernelspec": {
   "display_name": "Python 3 (ipykernel)",
   "language": "python",
   "name": "python3"
  },
  "language_info": {
   "codemirror_mode": {
    "name": "ipython",
    "version": 3
   },
   "file_extension": ".py",
   "mimetype": "text/x-python",
   "name": "python",
   "nbconvert_exporter": "python",
   "pygments_lexer": "ipython3",
   "version": "3.9.7"
  }
 },
 "nbformat": 4,
 "nbformat_minor": 5
}
